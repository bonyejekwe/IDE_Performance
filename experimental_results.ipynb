{
 "cells": [
  {
   "cell_type": "code",
   "execution_count": 1,
   "metadata": {},
   "outputs": [],
   "source": [
    "import pandas as pd\n",
    "import numpy as np\n",
    "df = pd.read_csv(\"IDE Data Collection - Sheet1.csv\")"
   ]
  },
  {
   "cell_type": "code",
   "execution_count": 2,
   "metadata": {},
   "outputs": [
    {
     "data": {
      "text/html": [
       "<div>\n",
       "<style scoped>\n",
       "    .dataframe tbody tr th:only-of-type {\n",
       "        vertical-align: middle;\n",
       "    }\n",
       "\n",
       "    .dataframe tbody tr th {\n",
       "        vertical-align: top;\n",
       "    }\n",
       "\n",
       "    .dataframe thead th {\n",
       "        text-align: right;\n",
       "    }\n",
       "</style>\n",
       "<table border=\"1\" class=\"dataframe\">\n",
       "  <thead>\n",
       "    <tr style=\"text-align: right;\">\n",
       "      <th></th>\n",
       "      <th>Test Subject ID</th>\n",
       "      <th>Time</th>\n",
       "      <th>Question</th>\n",
       "      <th>IDE Type</th>\n",
       "      <th>TimeSec</th>\n",
       "      <th>LogTime</th>\n",
       "      <th>QType</th>\n",
       "      <th>QNum</th>\n",
       "      <th>TestSubjectID</th>\n",
       "      <th>IDEType</th>\n",
       "    </tr>\n",
       "  </thead>\n",
       "  <tbody>\n",
       "    <tr>\n",
       "      <th>0</th>\n",
       "      <td>V1</td>\n",
       "      <td>3:36.55</td>\n",
       "      <td>C1</td>\n",
       "      <td>IDLE</td>\n",
       "      <td>216.55</td>\n",
       "      <td>2.335558</td>\n",
       "      <td>C</td>\n",
       "      <td>1</td>\n",
       "      <td>V1</td>\n",
       "      <td>IDLE</td>\n",
       "    </tr>\n",
       "    <tr>\n",
       "      <th>1</th>\n",
       "      <td>V1</td>\n",
       "      <td>3:34.51</td>\n",
       "      <td>D1</td>\n",
       "      <td>IDLE</td>\n",
       "      <td>214.51</td>\n",
       "      <td>2.331448</td>\n",
       "      <td>D</td>\n",
       "      <td>1</td>\n",
       "      <td>V1</td>\n",
       "      <td>IDLE</td>\n",
       "    </tr>\n",
       "    <tr>\n",
       "      <th>2</th>\n",
       "      <td>V1</td>\n",
       "      <td>1:08.18</td>\n",
       "      <td>N1</td>\n",
       "      <td>IDLE</td>\n",
       "      <td>68.18</td>\n",
       "      <td>1.833657</td>\n",
       "      <td>N</td>\n",
       "      <td>1</td>\n",
       "      <td>V1</td>\n",
       "      <td>IDLE</td>\n",
       "    </tr>\n",
       "    <tr>\n",
       "      <th>3</th>\n",
       "      <td>V1</td>\n",
       "      <td>1:31.25</td>\n",
       "      <td>C2</td>\n",
       "      <td>PyCharm</td>\n",
       "      <td>91.25</td>\n",
       "      <td>1.960233</td>\n",
       "      <td>C</td>\n",
       "      <td>2</td>\n",
       "      <td>V1</td>\n",
       "      <td>PyCharm</td>\n",
       "    </tr>\n",
       "    <tr>\n",
       "      <th>4</th>\n",
       "      <td>V1</td>\n",
       "      <td>1:58.00</td>\n",
       "      <td>D2</td>\n",
       "      <td>PyCharm</td>\n",
       "      <td>118.00</td>\n",
       "      <td>2.071882</td>\n",
       "      <td>D</td>\n",
       "      <td>2</td>\n",
       "      <td>V1</td>\n",
       "      <td>PyCharm</td>\n",
       "    </tr>\n",
       "    <tr>\n",
       "      <th>...</th>\n",
       "      <td>...</td>\n",
       "      <td>...</td>\n",
       "      <td>...</td>\n",
       "      <td>...</td>\n",
       "      <td>...</td>\n",
       "      <td>...</td>\n",
       "      <td>...</td>\n",
       "      <td>...</td>\n",
       "      <td>...</td>\n",
       "      <td>...</td>\n",
       "    </tr>\n",
       "    <tr>\n",
       "      <th>139</th>\n",
       "      <td>Q1</td>\n",
       "      <td>1:02.01</td>\n",
       "      <td>D2</td>\n",
       "      <td>IDLE</td>\n",
       "      <td>62.01</td>\n",
       "      <td>1.792462</td>\n",
       "      <td>D</td>\n",
       "      <td>2</td>\n",
       "      <td>Q1</td>\n",
       "      <td>IDLE</td>\n",
       "    </tr>\n",
       "    <tr>\n",
       "      <th>140</th>\n",
       "      <td>Q1</td>\n",
       "      <td>1:22.43</td>\n",
       "      <td>N2</td>\n",
       "      <td>IDLE</td>\n",
       "      <td>82.43</td>\n",
       "      <td>1.916085</td>\n",
       "      <td>N</td>\n",
       "      <td>2</td>\n",
       "      <td>Q1</td>\n",
       "      <td>IDLE</td>\n",
       "    </tr>\n",
       "    <tr>\n",
       "      <th>141</th>\n",
       "      <td>Q1</td>\n",
       "      <td>2:17.42</td>\n",
       "      <td>C3</td>\n",
       "      <td>PyCharm</td>\n",
       "      <td>137.42</td>\n",
       "      <td>2.138050</td>\n",
       "      <td>C</td>\n",
       "      <td>3</td>\n",
       "      <td>Q1</td>\n",
       "      <td>PyCharm</td>\n",
       "    </tr>\n",
       "    <tr>\n",
       "      <th>142</th>\n",
       "      <td>Q1</td>\n",
       "      <td>2:55.22</td>\n",
       "      <td>D3</td>\n",
       "      <td>PyCharm</td>\n",
       "      <td>175.22</td>\n",
       "      <td>2.243584</td>\n",
       "      <td>D</td>\n",
       "      <td>3</td>\n",
       "      <td>Q1</td>\n",
       "      <td>PyCharm</td>\n",
       "    </tr>\n",
       "    <tr>\n",
       "      <th>143</th>\n",
       "      <td>Q1</td>\n",
       "      <td>1:56.87</td>\n",
       "      <td>N3</td>\n",
       "      <td>PyCharm</td>\n",
       "      <td>116.87</td>\n",
       "      <td>2.067703</td>\n",
       "      <td>N</td>\n",
       "      <td>3</td>\n",
       "      <td>Q1</td>\n",
       "      <td>PyCharm</td>\n",
       "    </tr>\n",
       "  </tbody>\n",
       "</table>\n",
       "<p>144 rows × 10 columns</p>\n",
       "</div>"
      ],
      "text/plain": [
       "    Test Subject ID     Time Question IDE Type  TimeSec   LogTime QType QNum  \\\n",
       "0                V1  3:36.55       C1     IDLE   216.55  2.335558     C    1   \n",
       "1                V1  3:34.51       D1     IDLE   214.51  2.331448     D    1   \n",
       "2                V1  1:08.18       N1     IDLE    68.18  1.833657     N    1   \n",
       "3                V1  1:31.25       C2  PyCharm    91.25  1.960233     C    2   \n",
       "4                V1  1:58.00       D2  PyCharm   118.00  2.071882     D    2   \n",
       "..              ...      ...      ...      ...      ...       ...   ...  ...   \n",
       "139              Q1  1:02.01       D2     IDLE    62.01  1.792462     D    2   \n",
       "140              Q1  1:22.43       N2     IDLE    82.43  1.916085     N    2   \n",
       "141              Q1  2:17.42       C3  PyCharm   137.42  2.138050     C    3   \n",
       "142              Q1  2:55.22       D3  PyCharm   175.22  2.243584     D    3   \n",
       "143              Q1  1:56.87       N3  PyCharm   116.87  2.067703     N    3   \n",
       "\n",
       "    TestSubjectID  IDEType  \n",
       "0              V1     IDLE  \n",
       "1              V1     IDLE  \n",
       "2              V1     IDLE  \n",
       "3              V1  PyCharm  \n",
       "4              V1  PyCharm  \n",
       "..            ...      ...  \n",
       "139            Q1     IDLE  \n",
       "140            Q1     IDLE  \n",
       "141            Q1  PyCharm  \n",
       "142            Q1  PyCharm  \n",
       "143            Q1  PyCharm  \n",
       "\n",
       "[144 rows x 10 columns]"
      ]
     },
     "execution_count": 2,
     "metadata": {},
     "output_type": "execute_result"
    }
   ],
   "source": [
    "df[\"QType\"] = df[\"Question\"].str[:1]\n",
    "df[\"QNum\"] = df[\"Question\"].str[1:2].astype(str)\n",
    "df[\"TestSubjectID\"] = df[\"Test Subject ID\"]\n",
    "df[\"IDEType\"] = df[\"IDE Type\"]\n",
    "df"
   ]
  },
  {
   "cell_type": "code",
   "execution_count": 3,
   "metadata": {},
   "outputs": [
    {
     "name": "stdout",
     "output_type": "stream",
     "text": [
      "C                 Anova\n",
      "=====================================\n",
      "        F Value Num DF  Den DF Pr > F\n",
      "-------------------------------------\n",
      "IDEType  0.2885 2.0000 30.0000 0.7515\n",
      "=====================================\n",
      "\n",
      "N                 Anova\n",
      "=====================================\n",
      "        F Value Num DF  Den DF Pr > F\n",
      "-------------------------------------\n",
      "IDEType  0.0725 2.0000 30.0000 0.9302\n",
      "=====================================\n",
      "\n",
      "D                 Anova\n",
      "=====================================\n",
      "        F Value Num DF  Den DF Pr > F\n",
      "-------------------------------------\n",
      "IDEType  1.3440 2.0000 30.0000 0.2761\n",
      "=====================================\n",
      "\n"
     ]
    }
   ],
   "source": [
    "from statsmodels.stats.anova import AnovaRM \n",
    "res = AnovaRM(data=df[df[\"QType\"] == \"C\"], depvar='LogTime', subject='TestSubjectID', within=['IDEType']).fit()\n",
    "print(\"C\", res)\n",
    "res = AnovaRM(data=df[df[\"QType\"] == \"N\"], depvar='LogTime', subject='TestSubjectID', within=['IDEType']).fit()\n",
    "print(\"N\", res)\n",
    "res = AnovaRM(data=df[df[\"QType\"] == \"D\"], depvar='LogTime', subject='TestSubjectID', within=['IDEType']).fit()\n",
    "print(\"D\", res)"
   ]
  },
  {
   "cell_type": "code",
   "execution_count": 4,
   "metadata": {},
   "outputs": [
    {
     "name": "stdout",
     "output_type": "stream",
     "text": [
      "C               Anova\n",
      "==================================\n",
      "     F Value Num DF  Den DF Pr > F\n",
      "----------------------------------\n",
      "QNum  0.6300 2.0000 30.0000 0.5395\n",
      "==================================\n",
      "\n",
      "N               Anova\n",
      "==================================\n",
      "     F Value Num DF  Den DF Pr > F\n",
      "----------------------------------\n",
      "QNum  1.2463 2.0000 30.0000 0.3020\n",
      "==================================\n",
      "\n",
      "D               Anova\n",
      "==================================\n",
      "     F Value Num DF  Den DF Pr > F\n",
      "----------------------------------\n",
      "QNum  2.5355 2.0000 30.0000 0.0961\n",
      "==================================\n",
      "\n"
     ]
    }
   ],
   "source": [
    "res = AnovaRM(data=df[df[\"QType\"] == \"C\"], depvar='LogTime', subject='TestSubjectID', within=['QNum']).fit()\n",
    "print(\"C\", res)\n",
    "res = AnovaRM(data=df[df[\"QType\"] == \"N\"], depvar='LogTime', subject='TestSubjectID', within=['QNum']).fit()\n",
    "print(\"N\", res)\n",
    "res = AnovaRM(data=df[df[\"QType\"] == \"D\"], depvar='LogTime', subject='TestSubjectID', within=['QNum']).fit()\n",
    "print(\"D\", res)"
   ]
  },
  {
   "cell_type": "code",
   "execution_count": 5,
   "metadata": {},
   "outputs": [
    {
     "data": {
      "text/plain": [
       "QType  IDE Type\n",
       "C      IDLE        [2.335558188, 2.804009875, 1.900694774, 2.0097...\n",
       "       PyCharm     [1.960232873, 2.020071104, 2.597925433, 2.1439...\n",
       "       VSCode      [2.37386787, 2.363668378, 1.935003151, 2.31470...\n",
       "D      IDLE        [2.331447543, 2.173623258, 2.1305589, 1.839666...\n",
       "       PyCharm     [2.071882007, 2.750947867, 1.567379308, 2.2585...\n",
       "       VSCode      [1.64738297, 2.117768295, 2.158362492, 0.30319...\n",
       "N      IDLE        [1.833656997, 2.256741793, 2.590440557, 1.4952...\n",
       "       PyCharm     [1.346548559, 1.905364069, 1.337059726, 2.5909...\n",
       "       VSCode      [1.064083436, 2.665571611, 1.385069776, 1.0038...\n",
       "Name: LogTime, dtype: object"
      ]
     },
     "execution_count": 5,
     "metadata": {},
     "output_type": "execute_result"
    }
   ],
   "source": [
    "groups = df.groupby([\"QType\", \"IDE Type\"])[\"LogTime\"].apply(list)\n",
    "groups"
   ]
  },
  {
   "cell_type": "markdown",
   "metadata": {},
   "source": [
    "# Old Code"
   ]
  },
  {
   "cell_type": "code",
   "execution_count": 6,
   "metadata": {},
   "outputs": [],
   "source": [
    "# df2 = pd.read_csv(\"IDE Usage Survey (Responses) - Form Responses 1.csv\")\n",
    "# df2.columns\n",
    "\n",
    "# scales = [       'On a scale of 1 to 5, rate the usefulness of features for each preferred IDE [VS Code]',\n",
    "#        'On a scale of 1 to 5, rate the usefulness of features for each preferred IDE [Shell]',\n",
    "#        'On a scale of 1 to 5, rate the usefulness of features for each preferred IDE [PyCharm]',\n",
    "#        'On a scale of 1 to 5, rate the intuitiveness for your each IDE [VS Code]',\n",
    "#        'On a scale of 1 to 5, rate the intuitiveness for your each IDE [Shell]',\n",
    "#        'On a scale of 1 to 5, rate the intuitiveness for your each IDE [PyCharm]',\n",
    "#        'On a scale of 1 to 5, how comfortable do you feel using your preferred IDE [VS Code]',\n",
    "#        'On a scale of 1 to 5, how comfortable do you feel using your preferred IDE [Shell]',\n",
    "#        'On a scale of 1 to 5, how comfortable do you feel using your preferred IDE [PyCharm]',\n",
    "#              'On a scale of 1 to 5, what was your level of frustration during your IDE experience?  [VS Code]',\n",
    "#        'On a scale of 1 to 5, what was your level of frustration during your IDE experience?  [Shell]',\n",
    "#        'On a scale of 1 to 5, what was your level of frustration during your IDE experience?  [PyCharm]',\n",
    "#        'On a scale of 1 to 5, rate how inconvenient your IDE experience was?  [VS Code]',\n",
    "#        'On a scale of 1 to 5, rate how inconvenient your IDE experience was?  [Shell]',\n",
    "#        'On a scale of 1 to 5, rate how inconvenient your IDE experience was?  [PyCharm]',\n",
    "#        'On a scale of 1 to 5, rate how time consuming your IDE experience was?  [VS Code]',\n",
    "#        'On a scale of 1 to 5, rate how time consuming your IDE experience was?  [Shell]',\n",
    "#        'On a scale of 1 to 5, rate how time consuming your IDE experience was?  [PyCharm]',\n",
    "#        ]\n",
    "\n",
    "# for q in scales:\n",
    "#     df2[q] = df2[q].str[:1].astype(int)\n",
    "\n",
    "    "
   ]
  },
  {
   "cell_type": "code",
   "execution_count": 7,
   "metadata": {},
   "outputs": [],
   "source": [
    "tables = []\n",
    "for qtype in [\"C\", \"D\", \"N\"]:\n",
    "    d = groups[qtype]\n",
    "    anova_table = pd.DataFrame({\"IDLE\": d[\"IDLE\"], \"VSCode\": d[\"VSCode\"], \"PyCharm\": d[\"PyCharm\"]})\n",
    "    tables.append(anova_table)"
   ]
  },
  {
   "cell_type": "code",
   "execution_count": 8,
   "metadata": {},
   "outputs": [
    {
     "name": "stdout",
     "output_type": "stream",
     "text": [
      "C F_onewayResult(statistic=0.20172537131149243, pvalue=0.818054393765234)\n",
      "D F_onewayResult(statistic=1.3976473277297938, pvalue=0.25770084018494316)\n",
      "N F_onewayResult(statistic=0.05849563062806235, pvalue=0.9432539584660509)\n"
     ]
    }
   ],
   "source": [
    "from scipy.stats import f_oneway, tukey_hsd\n",
    "\n",
    "atable = tables[0]\n",
    "for idx, qtype in enumerate([\"C\", \"D\", \"N\"]):\n",
    "    atable = tables[idx]\n",
    "    print(qtype, f_oneway(atable[\"IDLE\"], atable[\"VSCode\"], atable[\"PyCharm\"]))"
   ]
  },
  {
   "cell_type": "code",
   "execution_count": null,
   "metadata": {},
   "outputs": [],
   "source": []
  },
  {
   "cell_type": "code",
   "execution_count": 9,
   "metadata": {},
   "outputs": [
    {
     "data": {
      "text/html": [
       "<div>\n",
       "<style scoped>\n",
       "    .dataframe tbody tr th:only-of-type {\n",
       "        vertical-align: middle;\n",
       "    }\n",
       "\n",
       "    .dataframe tbody tr th {\n",
       "        vertical-align: top;\n",
       "    }\n",
       "\n",
       "    .dataframe thead th {\n",
       "        text-align: right;\n",
       "    }\n",
       "</style>\n",
       "<table border=\"1\" class=\"dataframe\">\n",
       "  <thead>\n",
       "    <tr style=\"text-align: right;\">\n",
       "      <th></th>\n",
       "      <th>Test Subject ID</th>\n",
       "      <th>Time</th>\n",
       "      <th>Question</th>\n",
       "      <th>IDE Type</th>\n",
       "      <th>TimeSec</th>\n",
       "      <th>LogTime</th>\n",
       "      <th>QType</th>\n",
       "      <th>QNum</th>\n",
       "      <th>TestSubjectID</th>\n",
       "      <th>IDEType</th>\n",
       "    </tr>\n",
       "  </thead>\n",
       "  <tbody>\n",
       "    <tr>\n",
       "      <th>0</th>\n",
       "      <td>V1</td>\n",
       "      <td>3:36.55</td>\n",
       "      <td>C1</td>\n",
       "      <td>IDLE</td>\n",
       "      <td>216.55</td>\n",
       "      <td>2.335558</td>\n",
       "      <td>C</td>\n",
       "      <td>1</td>\n",
       "      <td>V1</td>\n",
       "      <td>IDLE</td>\n",
       "    </tr>\n",
       "    <tr>\n",
       "      <th>1</th>\n",
       "      <td>V1</td>\n",
       "      <td>3:34.51</td>\n",
       "      <td>D1</td>\n",
       "      <td>IDLE</td>\n",
       "      <td>214.51</td>\n",
       "      <td>2.331448</td>\n",
       "      <td>D</td>\n",
       "      <td>1</td>\n",
       "      <td>V1</td>\n",
       "      <td>IDLE</td>\n",
       "    </tr>\n",
       "    <tr>\n",
       "      <th>2</th>\n",
       "      <td>V1</td>\n",
       "      <td>1:08.18</td>\n",
       "      <td>N1</td>\n",
       "      <td>IDLE</td>\n",
       "      <td>68.18</td>\n",
       "      <td>1.833657</td>\n",
       "      <td>N</td>\n",
       "      <td>1</td>\n",
       "      <td>V1</td>\n",
       "      <td>IDLE</td>\n",
       "    </tr>\n",
       "    <tr>\n",
       "      <th>3</th>\n",
       "      <td>V1</td>\n",
       "      <td>1:31.25</td>\n",
       "      <td>C2</td>\n",
       "      <td>PyCharm</td>\n",
       "      <td>91.25</td>\n",
       "      <td>1.960233</td>\n",
       "      <td>C</td>\n",
       "      <td>2</td>\n",
       "      <td>V1</td>\n",
       "      <td>PyCharm</td>\n",
       "    </tr>\n",
       "    <tr>\n",
       "      <th>4</th>\n",
       "      <td>V1</td>\n",
       "      <td>1:58.00</td>\n",
       "      <td>D2</td>\n",
       "      <td>PyCharm</td>\n",
       "      <td>118.00</td>\n",
       "      <td>2.071882</td>\n",
       "      <td>D</td>\n",
       "      <td>2</td>\n",
       "      <td>V1</td>\n",
       "      <td>PyCharm</td>\n",
       "    </tr>\n",
       "    <tr>\n",
       "      <th>...</th>\n",
       "      <td>...</td>\n",
       "      <td>...</td>\n",
       "      <td>...</td>\n",
       "      <td>...</td>\n",
       "      <td>...</td>\n",
       "      <td>...</td>\n",
       "      <td>...</td>\n",
       "      <td>...</td>\n",
       "      <td>...</td>\n",
       "      <td>...</td>\n",
       "    </tr>\n",
       "    <tr>\n",
       "      <th>139</th>\n",
       "      <td>Q1</td>\n",
       "      <td>1:02.01</td>\n",
       "      <td>D2</td>\n",
       "      <td>IDLE</td>\n",
       "      <td>62.01</td>\n",
       "      <td>1.792462</td>\n",
       "      <td>D</td>\n",
       "      <td>2</td>\n",
       "      <td>Q1</td>\n",
       "      <td>IDLE</td>\n",
       "    </tr>\n",
       "    <tr>\n",
       "      <th>140</th>\n",
       "      <td>Q1</td>\n",
       "      <td>1:22.43</td>\n",
       "      <td>N2</td>\n",
       "      <td>IDLE</td>\n",
       "      <td>82.43</td>\n",
       "      <td>1.916085</td>\n",
       "      <td>N</td>\n",
       "      <td>2</td>\n",
       "      <td>Q1</td>\n",
       "      <td>IDLE</td>\n",
       "    </tr>\n",
       "    <tr>\n",
       "      <th>141</th>\n",
       "      <td>Q1</td>\n",
       "      <td>2:17.42</td>\n",
       "      <td>C3</td>\n",
       "      <td>PyCharm</td>\n",
       "      <td>137.42</td>\n",
       "      <td>2.138050</td>\n",
       "      <td>C</td>\n",
       "      <td>3</td>\n",
       "      <td>Q1</td>\n",
       "      <td>PyCharm</td>\n",
       "    </tr>\n",
       "    <tr>\n",
       "      <th>142</th>\n",
       "      <td>Q1</td>\n",
       "      <td>2:55.22</td>\n",
       "      <td>D3</td>\n",
       "      <td>PyCharm</td>\n",
       "      <td>175.22</td>\n",
       "      <td>2.243584</td>\n",
       "      <td>D</td>\n",
       "      <td>3</td>\n",
       "      <td>Q1</td>\n",
       "      <td>PyCharm</td>\n",
       "    </tr>\n",
       "    <tr>\n",
       "      <th>143</th>\n",
       "      <td>Q1</td>\n",
       "      <td>1:56.87</td>\n",
       "      <td>N3</td>\n",
       "      <td>PyCharm</td>\n",
       "      <td>116.87</td>\n",
       "      <td>2.067703</td>\n",
       "      <td>N</td>\n",
       "      <td>3</td>\n",
       "      <td>Q1</td>\n",
       "      <td>PyCharm</td>\n",
       "    </tr>\n",
       "  </tbody>\n",
       "</table>\n",
       "<p>144 rows × 10 columns</p>\n",
       "</div>"
      ],
      "text/plain": [
       "    Test Subject ID     Time Question IDE Type  TimeSec   LogTime QType QNum  \\\n",
       "0                V1  3:36.55       C1     IDLE   216.55  2.335558     C    1   \n",
       "1                V1  3:34.51       D1     IDLE   214.51  2.331448     D    1   \n",
       "2                V1  1:08.18       N1     IDLE    68.18  1.833657     N    1   \n",
       "3                V1  1:31.25       C2  PyCharm    91.25  1.960233     C    2   \n",
       "4                V1  1:58.00       D2  PyCharm   118.00  2.071882     D    2   \n",
       "..              ...      ...      ...      ...      ...       ...   ...  ...   \n",
       "139              Q1  1:02.01       D2     IDLE    62.01  1.792462     D    2   \n",
       "140              Q1  1:22.43       N2     IDLE    82.43  1.916085     N    2   \n",
       "141              Q1  2:17.42       C3  PyCharm   137.42  2.138050     C    3   \n",
       "142              Q1  2:55.22       D3  PyCharm   175.22  2.243584     D    3   \n",
       "143              Q1  1:56.87       N3  PyCharm   116.87  2.067703     N    3   \n",
       "\n",
       "    TestSubjectID  IDEType  \n",
       "0              V1     IDLE  \n",
       "1              V1     IDLE  \n",
       "2              V1     IDLE  \n",
       "3              V1  PyCharm  \n",
       "4              V1  PyCharm  \n",
       "..            ...      ...  \n",
       "139            Q1     IDLE  \n",
       "140            Q1     IDLE  \n",
       "141            Q1  PyCharm  \n",
       "142            Q1  PyCharm  \n",
       "143            Q1  PyCharm  \n",
       "\n",
       "[144 rows x 10 columns]"
      ]
     },
     "execution_count": 9,
     "metadata": {},
     "output_type": "execute_result"
    }
   ],
   "source": [
    "# df.groupby([ \"QType\"])[\"LogTime\"].describe()\n",
    "df"
   ]
  },
  {
   "cell_type": "code",
   "execution_count": 10,
   "metadata": {},
   "outputs": [],
   "source": [
    "groups2 = df.groupby([\"QType\", \"QNum\"])[\"LogTime\"].apply(list)\n",
    "tables2 = []\n",
    "for qnum in [\"C\", \"D\", \"N\"]:\n",
    "# for qnum in [\"1\", \"2\", \"3\"]:\n",
    "    d2 = groups2[qnum]\n",
    "    anova_table2 = pd.DataFrame({\"1\": d2[\"1\"], \"2\": d2[\"2\"], \"3\": d2[\"3\"]})\n",
    "    # anova_table2 = pd.DataFrame({\"C\": groups2[\"C\"][qnum], \"D\": groups2[\"D\"][qnum], \"N\": groups2[\"N\"][qnum]})\n",
    "    tables2.append(anova_table2)"
   ]
  },
  {
   "cell_type": "code",
   "execution_count": 11,
   "metadata": {},
   "outputs": [
    {
     "data": {
      "text/plain": [
       "QType  QNum\n",
       "C      1       [2.335558188, 2.804009875, 1.900694774, 2.0097...\n",
       "       2       [1.960232873, 2.363668378, 1.935003151, 2.3147...\n",
       "       3       [2.37386787, 2.020071104, 2.597925433, 2.14391...\n",
       "D      1       [2.331447543, 2.173623258, 2.1305589, 1.839666...\n",
       "       2       [2.071882007, 2.117768295, 2.158362492, 0.3031...\n",
       "       3       [1.64738297, 2.750947867, 1.567379308, 2.25854...\n",
       "N      1       [1.833656997, 2.256741793, 2.590440557, 1.4952...\n",
       "       2       [1.346548559, 2.665571611, 1.385069776, 1.0038...\n",
       "       3       [1.064083436, 1.905364069, 1.337059726, 2.5909...\n",
       "Name: LogTime, dtype: object"
      ]
     },
     "execution_count": 11,
     "metadata": {},
     "output_type": "execute_result"
    }
   ],
   "source": [
    "groups2"
   ]
  },
  {
   "cell_type": "code",
   "execution_count": 12,
   "metadata": {},
   "outputs": [
    {
     "name": "stdout",
     "output_type": "stream",
     "text": [
      "C F_onewayResult(statistic=0.43538993837515, pvalue=0.6497088346306406)\n",
      "D F_onewayResult(statistic=2.579120977090759, pvalue=0.08701210461106461)\n",
      "N F_onewayResult(statistic=0.9709596980007847, pvalue=0.3865116457227036)\n"
     ]
    }
   ],
   "source": [
    "from scipy.stats import f_oneway, tukey_hsd\n",
    "\n",
    "atable = tables2[0]\n",
    "for idx, qtype in enumerate([\"C\", \"D\", \"N\"]):\n",
    "    atable = tables2[idx]\n",
    "    print(qtype, f_oneway(atable[\"1\"], atable[\"2\"], atable[\"3\"]))"
   ]
  },
  {
   "cell_type": "code",
   "execution_count": 13,
   "metadata": {},
   "outputs": [
    {
     "data": {
      "text/plain": [
       "QType  IDE Type\n",
       "C      IDLE        2.220165\n",
       "       PyCharm     2.172996\n",
       "       VSCode      2.148015\n",
       "D      IDLE        1.945491\n",
       "       PyCharm     2.077610\n",
       "       VSCode      1.844475\n",
       "N      IDLE        1.796314\n",
       "       PyCharm     1.778422\n",
       "       VSCode      1.829043\n",
       "Name: LogTime, dtype: float64"
      ]
     },
     "execution_count": 13,
     "metadata": {},
     "output_type": "execute_result"
    }
   ],
   "source": [
    "df.groupby([\"QType\", \"QNum\"])[\"TimeSec\"].mean()\n",
    "df.groupby([\"QType\", \"IDE Type\"])[\"LogTime\"].mean()\n",
    "# df[df[\"QType\"] == \"N\"].groupby([\"QType\", \"IDE Type\"])[\"LogTime\"].hist(alpha=0.5)"
   ]
  },
  {
   "cell_type": "code",
   "execution_count": 14,
   "metadata": {},
   "outputs": [
    {
     "data": {
      "text/plain": [
       "<Axes: >"
      ]
     },
     "execution_count": 14,
     "metadata": {},
     "output_type": "execute_result"
    },
    {
     "data": {
      "image/png": "[encoded data removed]",
      "text/plain": [
       "<Figure size 640x480 with 1 Axes>"
      ]
     },
     "metadata": {},
     "output_type": "display_data"
    }
   ],
   "source": [
    "import numpy as np\n",
    "df[\"LogTime\"].hist(bins=8)\n",
    "# (np.exp(df[\"LogTime\"]) ** 0.5).hist(bins=8)"
   ]
  },
  {
   "cell_type": "code",
   "execution_count": 15,
   "metadata": {},
   "outputs": [
    {
     "data": {
      "text/plain": [
       "<Axes: title={'center': 'LogTime'}, xlabel='IDE Type'>"
      ]
     },
     "execution_count": 15,
     "metadata": {},
     "output_type": "execute_result"
    },
    {
     "data": {
      "image/png": "[encoded data removed]",
      "text/plain": [
       "<Figure size 640x480 with 1 Axes>"
      ]
     },
     "metadata": {},
     "output_type": "display_data"
    }
   ],
   "source": [
    "df.boxplot(\"LogTime\", by=\"IDE Type\")"
   ]
  },
  {
   "cell_type": "code",
   "execution_count": 16,
   "metadata": {},
   "outputs": [
    {
     "data": {
      "text/plain": [
       "<Axes: title={'center': 'LogTime'}, xlabel='[Mix]'>"
      ]
     },
     "execution_count": 16,
     "metadata": {},
     "output_type": "execute_result"
    },
    {
     "data": {
      "image/png": "[encoded data removed]",
      "text/plain": [
       "<Figure size 640x480 with 1 Axes>"
      ]
     },
     "metadata": {},
     "output_type": "display_data"
    },
    {
     "data": {
      "image/png": "[encoded data removed]",
      "text/plain": [
       "<Figure size 640x480 with 1 Axes>"
      ]
     },
     "metadata": {},
     "output_type": "display_data"
    },
    {
     "data": {
      "image/png": "[encoded data removed]",
      "text/plain": [
       "<Figure size 640x480 with 1 Axes>"
      ]
     },
     "metadata": {},
     "output_type": "display_data"
    }
   ],
   "source": [
    "df[\"Mix\"] = df[\"IDE Type\"].str[:1] + df[\"Question\"]\n",
    "df[df[\"Mix\"].str.startswith(\"I\")].boxplot(\"LogTime\", by=[\"Mix\"])\n",
    "df[df[\"Mix\"].str.startswith(\"V\")].boxplot(\"LogTime\", by=[\"Mix\"])\n",
    "df[df[\"Mix\"].str.startswith(\"P\")].boxplot(\"LogTime\", by=[\"Mix\"])\n",
    "# df.boxplot(\"LogTime\", by=[\"IDE Type\", \"QType\"])"
   ]
  },
  {
   "cell_type": "code",
   "execution_count": 17,
   "metadata": {},
   "outputs": [],
   "source": [
    "# df[\"Mix\"] = df[\"IDE Type\"] + \" \" +  df[\"Question\"] #set(df[\"IDE Type\"].str[:1] + df[\"Question\"])\n",
    "# df.boxplot(\"LogTime\", by=[\"Mix2\"])"
   ]
  },
  {
   "cell_type": "code",
   "execution_count": 18,
   "metadata": {},
   "outputs": [
    {
     "data": {
      "text/plain": [
       "Mix2\n",
       "IC    16\n",
       "ID    16\n",
       "IN    16\n",
       "PC    16\n",
       "PD    16\n",
       "PN    16\n",
       "VC    16\n",
       "VD    16\n",
       "VN    16\n",
       "Name: count, dtype: int64"
      ]
     },
     "execution_count": 18,
     "metadata": {},
     "output_type": "execute_result"
    }
   ],
   "source": [
    "df[\"Mix2\"] = df[\"IDE Type\"].str[:1] + df[\"Question\"].str[:1]\n",
    "df['Mix2'].value_counts()"
   ]
  }
 ],
 "metadata": {
  "kernelspec": {
   "display_name": "base",
   "language": "python",
   "name": "python3"
  },
  "language_info": {
   "codemirror_mode": {
    "name": "ipython",
    "version": 3
   },
   "file_extension": ".py",
   "mimetype": "text/x-python",
   "name": "python",
   "nbconvert_exporter": "python",
   "pygments_lexer": "ipython3",
   "version": "3.8.3"
  }
 },
 "nbformat": 4,
 "nbformat_minor": 2
}
